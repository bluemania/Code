{
 "cells": [
  {
   "cell_type": "code",
   "execution_count": null,
   "metadata": {
    "collapsed": true
   },
   "outputs": [],
   "source": [
    "##Next part;\n",
    "\n",
    "#Show picture roughly where frisbee landed\n",
    "#instigate a second frisbee shot, note that the 'aim' doesnt set itself to aim directly at the goal and it should!\n",
    "#proper scoring system\n",
    "#create a second player?\n",
    "#create a second hole\n",
    "#more realistic frisbee physics ie, too high an angle it comes back.\n"
   ]
  }
 ],
 "metadata": {
  "kernelspec": {
   "display_name": "Python 2",
   "language": "python",
   "name": "python2"
  },
  "language_info": {
   "codemirror_mode": {
    "name": "ipython",
    "version": 2
   },
   "file_extension": ".py",
   "mimetype": "text/x-python",
   "name": "python",
   "nbconvert_exporter": "python",
   "pygments_lexer": "ipython2",
   "version": "2.7.9"
  }
 },
 "nbformat": 4,
 "nbformat_minor": 0
}
