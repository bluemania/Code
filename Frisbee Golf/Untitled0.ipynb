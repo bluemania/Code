{
 "metadata": {
  "name": "",
  "signature": "sha256:c6921989ad11bbbf9f1c68ef9f0d34d89158be6d139d1be23a473fb4b9002856"
 },
 "nbformat": 3,
 "nbformat_minor": 0,
 "worksheets": []
}